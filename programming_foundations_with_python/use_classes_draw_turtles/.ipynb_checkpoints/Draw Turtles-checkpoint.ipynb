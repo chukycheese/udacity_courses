{
 "cells": [
  {
   "cell_type": "markdown",
   "metadata": {},
   "source": [
    "# Lesson 3: Use classes: Draw Turtles"
   ]
  },
  {
   "cell_type": "code",
   "execution_count": 2,
   "metadata": {
    "collapsed": true
   },
   "outputs": [],
   "source": [
    "import turtle"
   ]
  },
  {
   "cell_type": "markdown",
   "metadata": {},
   "source": [
    "## 5. Drawing a Square"
   ]
  },
  {
   "cell_type": "code",
   "execution_count": 2,
   "metadata": {
    "collapsed": true
   },
   "outputs": [],
   "source": [
    "def draw_square():\n",
    "    \n",
    "    # Setting a window with the background colored red\n",
    "    window = turtle.Screen()\n",
    "    window.bgcolor('red')\n",
    "    \n",
    "    # Move a turtle named brad forward\n",
    "    brad = turtle.Turtle()\n",
    "    brad.forward(100)\n",
    "    \n",
    "    # Turn Brad right 90 degrees and move forward\n",
    "    brad.right(90)\n",
    "    brad.forward(100)\n",
    "    \n",
    "    brad.right(90)\n",
    "    brad.forward(100)\n",
    "    \n",
    "    brad.right(90)\n",
    "    brad.forward(100)\n",
    "    \n",
    "    window.exitonclick()"
   ]
  },
  {
   "cell_type": "code",
   "execution_count": 3,
   "metadata": {
    "collapsed": false
   },
   "outputs": [],
   "source": [
    "draw_square()"
   ]
  },
  {
   "cell_type": "markdown",
   "metadata": {
    "collapsed": true
   },
   "source": [
    "## 6. Change Turtle Shape, Coler, and Speed"
   ]
  },
  {
   "cell_type": "code",
   "execution_count": 3,
   "metadata": {
    "collapsed": true
   },
   "outputs": [],
   "source": [
    "def draw_square():\n",
    "    \n",
    "    # Setting a window with the background colored red\n",
    "    window = turtle.Screen()\n",
    "    window.bgcolor('red')\n",
    "    \n",
    "    # Move a turtle named brad forward\n",
    "    brad = turtle.Turtle()\n",
    "    \n",
    "    # Customize the turtle\n",
    "    brad.shape(\"turtle\")\n",
    "    brad.color('yellow')\n",
    "    brad.speed(2)\n",
    "    \n",
    "    brad.forward(100) \n",
    "    \n",
    "    # Turn Brad right 90 degrees and move forward\n",
    "    brad.right(90)\n",
    "    brad.forward(100)\n",
    "    \n",
    "    brad.right(90)\n",
    "    brad.forward(100)\n",
    "    \n",
    "    brad.right(90)\n",
    "    brad.forward(100)\n",
    "    \n",
    "    window.exitonclick()"
   ]
  },
  {
   "cell_type": "code",
   "execution_count": 4,
   "metadata": {
    "collapsed": false
   },
   "outputs": [],
   "source": [
    "draw_square()"
   ]
  },
  {
   "cell_type": "markdown",
   "metadata": {},
   "source": [
    "## 9. Two Turtles"
   ]
  },
  {
   "cell_type": "code",
   "execution_count": null,
   "metadata": {
    "collapsed": true
   },
   "outputs": [],
   "source": [
    "def draw_square():\n",
    "    \n",
    "    # Setting a window with the background colored red\n",
    "    window = turtle.Screen()\n",
    "    window.bgcolor('red')\n",
    "    \n",
    "    # Move a turtle named brad forward\n",
    "    brad = turtle.Turtle()\n",
    "    \n",
    "    # Customize the turtle\n",
    "    brad.shape(\"turtle\")\n",
    "    brad.color('yellow')\n",
    "    brad.speed(2)\n",
    "    \n",
    "    brad.forward(100) \n",
    "    \n",
    "    # Turn Brad right 90 degrees and move forward\n",
    "    brad.right(90)\n",
    "    brad.forward(100)\n",
    "    \n",
    "    brad.right(90)\n",
    "    brad.forward(100)\n",
    "    \n",
    "    brad.right(90)\n",
    "    brad.forward(100)\n",
    "    \n",
    "    # Another turtle named angie\n",
    "    angie = turtle.Turtle()\n",
    "    \n",
    "    # Customize angie\n",
    "    angie.shape('arrow')\n",
    "    angie.color('blue')\n",
    "    \n",
    "    # Draw circle angie\n",
    "    angie.circle(100)\n",
    "    \n",
    "    window.exitonclick()"
   ]
  }
 ],
 "metadata": {
  "anaconda-cloud": {},
  "kernelspec": {
   "display_name": "Python [conda root]",
   "language": "python",
   "name": "conda-root-py"
  },
  "language_info": {
   "codemirror_mode": {
    "name": "ipython",
    "version": 3
   },
   "file_extension": ".py",
   "mimetype": "text/x-python",
   "name": "python",
   "nbconvert_exporter": "python",
   "pygments_lexer": "ipython3",
   "version": "3.5.2"
  }
 },
 "nbformat": 4,
 "nbformat_minor": 1
}
